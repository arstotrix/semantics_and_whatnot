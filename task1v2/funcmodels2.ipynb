{
  "nbformat": 4,
  "nbformat_minor": 0,
  "metadata": {
    "colab": {
      "name": "funcmodels2.ipynb",
      "provenance": [],
      "authorship_tag": "ABX9TyM6amSq4vlVuWJfHS40pZvo",
      "include_colab_link": true
    },
    "kernelspec": {
      "name": "python3",
      "display_name": "Python 3"
    },
    "language_info": {
      "name": "python"
    }
  },
  "cells": [
    {
      "cell_type": "markdown",
      "metadata": {
        "id": "view-in-github",
        "colab_type": "text"
      },
      "source": [
        "<a href=\"https://colab.research.google.com/github/arstotrix/semantics_and_whatnot/blob/main/funcmodels2.ipynb\" target=\"_parent\"><img src=\"https://colab.research.google.com/assets/colab-badge.svg\" alt=\"Open In Colab\"/></a>"
      ]
    },
    {
      "cell_type": "code",
      "metadata": {
        "id": "94mthxFf8B9f"
      },
      "source": [
        "import json\n",
        "import gzip"
      ],
      "execution_count": 4,
      "outputs": []
    },
    {
      "cell_type": "code",
      "metadata": {
        "colab": {
          "base_uri": "https://localhost:8080/"
        },
        "id": "3iaAlUO23FR-",
        "outputId": "9b16e868-f623-4a8e-aec7-082132df1ee9"
      },
      "source": [
        "!wget http://deepyeti.ucsd.edu/jianmo/amazon/categoryFiles/Clothing_Shoes_and_Jewelry.json.gz"
      ],
      "execution_count": 5,
      "outputs": [
        {
          "output_type": "stream",
          "name": "stdout",
          "text": [
            "--2021-10-20 07:29:44--  http://deepyeti.ucsd.edu/jianmo/amazon/categoryFiles/Clothing_Shoes_and_Jewelry.json.gz\n",
            "Resolving deepyeti.ucsd.edu (deepyeti.ucsd.edu)... 169.228.63.50\n",
            "Connecting to deepyeti.ucsd.edu (deepyeti.ucsd.edu)|169.228.63.50|:80... connected.\n",
            "HTTP request sent, awaiting response... 200 OK\n",
            "Length: 3554445765 (3.3G) [application/octet-stream]\n",
            "Saving to: ‘Clothing_Shoes_and_Jewelry.json.gz.2’\n",
            "\n",
            "Clothing_Shoes_and_ 100%[===================>]   3.31G  40.6MB/s    in 85s     \n",
            "\n",
            "2021-10-20 07:31:09 (40.0 MB/s) - ‘Clothing_Shoes_and_Jewelry.json.gz.2’ saved [3554445765/3554445765]\n",
            "\n"
          ]
        }
      ]
    },
    {
      "cell_type": "code",
      "metadata": {
        "id": "z3RkvU369Xwq"
      },
      "source": [
        "linkfile = \"/content/Clothing_Shoes_and_Jewelry.json.gz\"\n",
        "with gzip.open(linkfile, mode='rb', compresslevel=9, encoding=None, errors=None, newline=None) as f:\n",
        "  data = json.load(f, encoding=\"UTF-8\")"
      ],
      "execution_count": null,
      "outputs": []
    }
  ]
}