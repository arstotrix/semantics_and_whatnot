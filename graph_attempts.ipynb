{
  "nbformat": 4,
  "nbformat_minor": 0,
  "metadata": {
    "colab": {
      "name": "graph_attempts.ipynb",
      "provenance": [],
      "authorship_tag": "ABX9TyMhNXo+aY1dtCI0r2GN3ROT",
      "include_colab_link": true
    },
    "kernelspec": {
      "name": "python3",
      "display_name": "Python 3"
    },
    "language_info": {
      "name": "python"
    }
  },
  "cells": [
    {
      "cell_type": "markdown",
      "metadata": {
        "id": "view-in-github",
        "colab_type": "text"
      },
      "source": [
        "<a href=\"https://colab.research.google.com/github/arstotrix/semantics_and_whatnot/blob/main/graph_attempts.ipynb\" target=\"_parent\"><img src=\"https://colab.research.google.com/assets/colab-badge.svg\" alt=\"Open In Colab\"/></a>"
      ]
    },
    {
      "cell_type": "code",
      "metadata": {
        "id": "cG5rQFtRcEbg"
      },
      "source": [
        "import matplotlib.pyplot as plt\n",
        "import networkx as nx"
      ],
      "execution_count": 2,
      "outputs": []
    },
    {
      "cell_type": "code",
      "metadata": {
        "colab": {
          "base_uri": "https://localhost:8080/",
          "height": 297
        },
        "id": "225cNtG2cMAb",
        "outputId": "b6d74461-bce4-4e18-e92b-d2e511e3cd20"
      },
      "source": [
        "G = nx.Graph()\n",
        "\n",
        "G.add_edge(\"a\", \"b\", weight=0.6)\n",
        "G.add_edge(\"a\", \"c\", weight=0.2)\n",
        "G.add_edge(\"c\", \"d\", weight=0.1)\n",
        "G.add_edge(\"c\", \"e\", weight=0.7)\n",
        "G.add_edge(\"c\", \"f\", weight=0.9)\n",
        "G.add_edge(\"a\", \"d\", weight=0.3)\n",
        "\n",
        "elarge = [(u, v) for (u, v, d) in G.edges(data=True) if d[\"weight\"] > 0.5]\n",
        "esmall = [(u, v) for (u, v, d) in G.edges(data=True) if d[\"weight\"] <= 0.5]\n",
        "\n",
        "pos = nx.spring_layout(G, seed=7)  # positions for all nodes - seed for reproducibility\n",
        "\n",
        "nt = [('a', {}), ('b', {})]\n",
        "# nodes\n",
        "nx.draw_networkx_nodes(G, pos, node_size=700)\n",
        "\n",
        "# edges\n",
        "nx.draw_networkx_edges(G, pos, edgelist=elarge, width=6)\n",
        "nx.draw_networkx_edges(\n",
        "    G, pos, edgelist=esmall, width=6, alpha=0.5, edge_color=\"b\", style=\"dashed\"\n",
        ")\n",
        "\n",
        "# labels\n",
        "nx.draw_networkx_labels(G, pos, font_size=10, font_family=\"sans-serif\")\n",
        "\n",
        "ax = plt.gca()\n",
        "ax.margins(0.08)\n",
        "plt.axis(\"off\")\n",
        "plt.tight_layout()\n",
        "plt.show()"
      ],
      "execution_count": 3,
      "outputs": [
        {
          "output_type": "display_data",
          "data": {
            "image/png": "[encoded data removed]",
            "text/plain": [
              "<Figure size 432x288 with 1 Axes>"
            ]
          },
          "metadata": {}
        }
      ]
    },
    {
      "cell_type": "code",
      "metadata": {
        "colab": {
          "base_uri": "https://localhost:8080/"
        },
        "id": "ng3YYfwbec24",
        "outputId": "1cd43d7a-94b4-4581-d03f-932026b8b892"
      },
      "source": [
        "elarge"
      ],
      "execution_count": 8,
      "outputs": [
        {
          "output_type": "execute_result",
          "data": {
            "text/plain": [
              "[('a', 'b'), ('c', 'e'), ('c', 'f')]"
            ]
          },
          "metadata": {},
          "execution_count": 8
        }
      ]
    },
    {
      "cell_type": "code",
      "metadata": {
        "colab": {
          "base_uri": "https://localhost:8080/",
          "height": 265
        },
        "id": "rb7o_IXPeXmH",
        "outputId": "148672d9-7fa7-4f95-bb7c-c28c5c07591d"
      },
      "source": [
        "#это сработало на этих данных, но почему-то не сработало на моих?????\n",
        "nt = [('a', {}), ('b', {})]\n",
        "nt = ['a', 'b']\n",
        "nt2 = ['e', 'f']\n",
        "# nodes\n",
        "nx.draw_networkx_nodes(G, pos, nodelist=nt, node_size=700)\n",
        "nx.draw_networkx_nodes(G, pos, nodelist=nt2, node_size=700, node_color='#000000')"
      ],
      "execution_count": 4,
      "outputs": [
        {
          "output_type": "execute_result",
          "data": {
            "text/plain": [
              "<matplotlib.collections.PathCollection at 0x7fe4d8e593d0>"
            ]
          },
          "metadata": {},
          "execution_count": 4
        },
        {
          "output_type": "display_data",
          "data": {
            "image/png": "[encoded data removed]",
            "text/plain": [
              "<Figure size 432x288 with 1 Axes>"
            ]
          },
          "metadata": {}
        }
      ]
    },
    {
      "cell_type": "code",
      "metadata": {
        "colab": {
          "base_uri": "https://localhost:8080/"
        },
        "id": "xVqusRRLcQJg",
        "outputId": "231785fc-c3cb-41fc-8ebf-0cc0674effdf"
      },
      "source": [
        "#это тоже сработало только здесь... ъуъ, съука\n",
        "imgstrength = []\n",
        "for (u, v, d) in G.edges(data=True):\n",
        "  try:\n",
        "    if G['a'][v]['weight'] < 0.5:\n",
        "      if v not in imgstrength:\n",
        "        imgstrength.append(v)\n",
        "  except KeyError:\n",
        "    print('no node with that name')"
      ],
      "execution_count": 6,
      "outputs": [
        {
          "output_type": "stream",
          "name": "stdout",
          "text": [
            "no node with that name\n",
            "no node with that name\n"
          ]
        }
      ]
    },
    {
      "cell_type": "code",
      "metadata": {
        "colab": {
          "base_uri": "https://localhost:8080/"
        },
        "id": "UAIQ3J-YfDel",
        "outputId": "bac5e4e1-2c56-4840-eb83-63f3adf30787"
      },
      "source": [
        "imgstrength"
      ],
      "execution_count": 7,
      "outputs": [
        {
          "output_type": "execute_result",
          "data": {
            "text/plain": [
              "['c', 'd']"
            ]
          },
          "metadata": {},
          "execution_count": 7
        }
      ]
    }
  ]
}