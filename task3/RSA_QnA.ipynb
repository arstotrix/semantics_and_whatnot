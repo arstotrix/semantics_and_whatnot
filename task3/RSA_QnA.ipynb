{
  "nbformat": 4,
  "nbformat_minor": 0,
  "metadata": {
    "kernelspec": {
      "display_name": "Python 3",
      "language": "python",
      "name": "python3"
    },
    "language_info": {
      "codemirror_mode": {
        "name": "ipython",
        "version": 3
      },
      "file_extension": ".py",
      "mimetype": "text/x-python",
      "name": "python",
      "nbconvert_exporter": "python",
      "pygments_lexer": "ipython3",
      "version": "3.8.5"
    },
    "colab": {
      "name": "RSA_QnA.ipynb",
      "provenance": []
    }
  },
  "cells": [
    {
      "cell_type": "code",
      "metadata": {
        "id": "_jdwST4oR1Yp"
      },
      "source": [
        "import numpy as np\n",
        "import pandas as pd"
      ],
      "execution_count": null,
      "outputs": []
    },
    {
      "cell_type": "markdown",
      "metadata": {
        "id": "EgxV7uFeSORV"
      },
      "source": [
        "# Исходный код\n"
      ]
    },
    {
      "cell_type": "code",
      "metadata": {
        "id": "w_22_bpcR1Yr"
      },
      "source": [
        "__author__ = 'Chris Potts'\n",
        "\n",
        "\n",
        "class RSA:\n",
        "    \"\"\"Implementation of the core Rational Speech Acts model.\n",
        "\n",
        "    Parameters\n",
        "    ----------\n",
        "    lexicon : `np.array` or `pd.DataFrame`\n",
        "        Messages along the rows, states along the columns.\n",
        "    prior : array-like\n",
        "        Same length as the number of colums in `lexicon`.\n",
        "    costs : array-like\n",
        "        Same length as the number of rows in `lexicon`.\n",
        "    alpha : float\n",
        "        The temperature parameter. Default: 1.0\n",
        "    \"\"\"\n",
        "    def __init__(self, lexicon, prior, costs, alpha=1.0):\n",
        "        self.lexicon = lexicon\n",
        "        self.prior = np.array(prior)\n",
        "        self.costs = np.array(costs)\n",
        "        self.alpha = alpha\n",
        "\n",
        "    def literal_listener(self):\n",
        "        \"\"\"Literal listener predictions, which corresponds intuitively\n",
        "        to truth conditions with priors.\n",
        "\n",
        "        Returns\n",
        "        -------\n",
        "        np.array or pd.DataFrame, depending on `self.lexicon`.\n",
        "        The rows correspond to messages, the columns to states.\n",
        "\n",
        "        \"\"\"\n",
        "        return rownorm(self.lexicon * self.prior)\n",
        "\n",
        "    def speaker(self):\n",
        "        \"\"\"Returns a matrix of pragmatic speaker predictions.\n",
        "\n",
        "        Returns\n",
        "        -------\n",
        "        np.array or pd.DataFrame, depending on `self.lexicon`.\n",
        "        The rows correspond to states, the columns to states.\n",
        "        \"\"\"\n",
        "        lit = self.literal_listener().T\n",
        "        utilities = self.alpha * (safelog(lit) + self.costs)\n",
        "        return rownorm(np.exp(utilities))\n",
        "\n",
        "    def listener(self):\n",
        "        \"\"\"Returns a matrix of pragmatic listener predictions.\n",
        "\n",
        "        Returns\n",
        "        -------\n",
        "        np.array or pd.DataFrame, depending on `self.lexicon`.\n",
        "        The rows correspond to messages, the columns to states.\n",
        "        \"\"\"\n",
        "        spk = self.speaker().T\n",
        "        return rownorm(spk * self.prior)\n",
        "\n",
        "\n",
        "def rownorm(mat):\n",
        "    \"\"\"Row normalization of np.array or pd.DataFrame\"\"\"\n",
        "    return (mat.T / mat.sum(axis=1)).T\n",
        "\n",
        "\n",
        "def safelog(vals):\n",
        "    \"\"\"Silence distracting warnings about log(0).\"\"\"\n",
        "    with np.errstate(divide='ignore'):\n",
        "        return np.log(vals)\n",
        "\n",
        "\n",
        "if __name__ == '__main__':\n",
        "    \"\"\"Examples\"\"\"\n",
        "\n",
        "    from IPython.display import display\n",
        "\n",
        "\n",
        "    def display_reference_game(mod):\n",
        "        d = mod.lexicon.copy()\n",
        "        d['costs'] = mod.costs\n",
        "        d.loc['prior'] = list(mod.prior) + [\"\"]\n",
        "        d.loc['alpha'] = [mod.alpha] + [\" \"] * mod.lexicon.shape[1]\n",
        "        display(d)\n",
        "\n",
        "\n",
        "    # Core lexicon:\n",
        "    msgs = ['hat', 'glasses']\n",
        "    states = ['r1', 'r2']\n",
        "    lex = pd.DataFrame([\n",
        "        [0.0, 1.0],\n",
        "        [1.0, 1.0]], index=msgs, columns=states)"
      ],
      "execution_count": null,
      "outputs": []
    },
    {
      "cell_type": "markdown",
      "metadata": {
        "id": "JV5BMuPXTZCM"
      },
      "source": [
        "# Задание 3\n",
        "Референциальная игра:"
      ]
    },
    {
      "cell_type": "code",
      "metadata": {
        "id": "G5zA5NfqR1Yt",
        "outputId": "751af8ae-dda4-4d83-96bf-5c90672f4dcb"
      },
      "source": [
        "    print(\"=\"*70 + \"\\nEven priors and all-0 message costs\\n\")\n",
        "    basic_mod = RSA(lexicon=lex, prior=[0.5, 0.5], costs=[0.0, 0.0])\n",
        "\n",
        "    display_reference_game(basic_mod)\n",
        "\n",
        "    print(\"\\nLiteral listener\")\n",
        "    display(basic_mod.literal_listener())\n",
        "\n",
        "    print(\"\\nPragmatic speaker\")\n",
        "    display(basic_mod.speaker())\n",
        "\n",
        "    print(\"\\nPragmatic listener\")\n",
        "    display(basic_mod.listener())"
      ],
      "execution_count": null,
      "outputs": [
        {
          "name": "stdout",
          "output_type": "stream",
          "text": [
            "======================================================================\n",
            "Even priors and all-0 message costs\n",
            "\n"
          ]
        },
        {
          "data": {
            "text/html": [
              "<div>\n",
              "<style scoped>\n",
              "    .dataframe tbody tr th:only-of-type {\n",
              "        vertical-align: middle;\n",
              "    }\n",
              "\n",
              "    .dataframe tbody tr th {\n",
              "        vertical-align: top;\n",
              "    }\n",
              "\n",
              "    .dataframe thead th {\n",
              "        text-align: right;\n",
              "    }\n",
              "</style>\n",
              "<table border=\"1\" class=\"dataframe\">\n",
              "  <thead>\n",
              "    <tr style=\"text-align: right;\">\n",
              "      <th></th>\n",
              "      <th>r1</th>\n",
              "      <th>r2</th>\n",
              "      <th>costs</th>\n",
              "    </tr>\n",
              "  </thead>\n",
              "  <tbody>\n",
              "    <tr>\n",
              "      <th>hat</th>\n",
              "      <td>0.0</td>\n",
              "      <td>1</td>\n",
              "      <td>0</td>\n",
              "    </tr>\n",
              "    <tr>\n",
              "      <th>glasses</th>\n",
              "      <td>1.0</td>\n",
              "      <td>1</td>\n",
              "      <td>0</td>\n",
              "    </tr>\n",
              "    <tr>\n",
              "      <th>prior</th>\n",
              "      <td>0.5</td>\n",
              "      <td>0.5</td>\n",
              "      <td></td>\n",
              "    </tr>\n",
              "    <tr>\n",
              "      <th>alpha</th>\n",
              "      <td>1.0</td>\n",
              "      <td></td>\n",
              "      <td></td>\n",
              "    </tr>\n",
              "  </tbody>\n",
              "</table>\n",
              "</div>"
            ],
            "text/plain": [
              "          r1   r2 costs\n",
              "hat      0.0    1     0\n",
              "glasses  1.0    1     0\n",
              "prior    0.5  0.5      \n",
              "alpha    1.0           "
            ]
          },
          "metadata": {},
          "output_type": "display_data"
        },
        {
          "name": "stdout",
          "output_type": "stream",
          "text": [
            "\n",
            "Literal listener\n"
          ]
        },
        {
          "data": {
            "text/html": [
              "<div>\n",
              "<style scoped>\n",
              "    .dataframe tbody tr th:only-of-type {\n",
              "        vertical-align: middle;\n",
              "    }\n",
              "\n",
              "    .dataframe tbody tr th {\n",
              "        vertical-align: top;\n",
              "    }\n",
              "\n",
              "    .dataframe thead th {\n",
              "        text-align: right;\n",
              "    }\n",
              "</style>\n",
              "<table border=\"1\" class=\"dataframe\">\n",
              "  <thead>\n",
              "    <tr style=\"text-align: right;\">\n",
              "      <th></th>\n",
              "      <th>r1</th>\n",
              "      <th>r2</th>\n",
              "    </tr>\n",
              "  </thead>\n",
              "  <tbody>\n",
              "    <tr>\n",
              "      <th>hat</th>\n",
              "      <td>0.0</td>\n",
              "      <td>1.0</td>\n",
              "    </tr>\n",
              "    <tr>\n",
              "      <th>glasses</th>\n",
              "      <td>0.5</td>\n",
              "      <td>0.5</td>\n",
              "    </tr>\n",
              "  </tbody>\n",
              "</table>\n",
              "</div>"
            ],
            "text/plain": [
              "          r1   r2\n",
              "hat      0.0  1.0\n",
              "glasses  0.5  0.5"
            ]
          },
          "metadata": {},
          "output_type": "display_data"
        },
        {
          "name": "stdout",
          "output_type": "stream",
          "text": [
            "\n",
            "Pragmatic speaker\n"
          ]
        },
        {
          "data": {
            "text/html": [
              "<div>\n",
              "<style scoped>\n",
              "    .dataframe tbody tr th:only-of-type {\n",
              "        vertical-align: middle;\n",
              "    }\n",
              "\n",
              "    .dataframe tbody tr th {\n",
              "        vertical-align: top;\n",
              "    }\n",
              "\n",
              "    .dataframe thead th {\n",
              "        text-align: right;\n",
              "    }\n",
              "</style>\n",
              "<table border=\"1\" class=\"dataframe\">\n",
              "  <thead>\n",
              "    <tr style=\"text-align: right;\">\n",
              "      <th></th>\n",
              "      <th>hat</th>\n",
              "      <th>glasses</th>\n",
              "    </tr>\n",
              "  </thead>\n",
              "  <tbody>\n",
              "    <tr>\n",
              "      <th>r1</th>\n",
              "      <td>0.000000</td>\n",
              "      <td>1.000000</td>\n",
              "    </tr>\n",
              "    <tr>\n",
              "      <th>r2</th>\n",
              "      <td>0.666667</td>\n",
              "      <td>0.333333</td>\n",
              "    </tr>\n",
              "  </tbody>\n",
              "</table>\n",
              "</div>"
            ],
            "text/plain": [
              "         hat   glasses\n",
              "r1  0.000000  1.000000\n",
              "r2  0.666667  0.333333"
            ]
          },
          "metadata": {},
          "output_type": "display_data"
        },
        {
          "name": "stdout",
          "output_type": "stream",
          "text": [
            "\n",
            "Pragmatic listener\n"
          ]
        },
        {
          "data": {
            "text/html": [
              "<div>\n",
              "<style scoped>\n",
              "    .dataframe tbody tr th:only-of-type {\n",
              "        vertical-align: middle;\n",
              "    }\n",
              "\n",
              "    .dataframe tbody tr th {\n",
              "        vertical-align: top;\n",
              "    }\n",
              "\n",
              "    .dataframe thead th {\n",
              "        text-align: right;\n",
              "    }\n",
              "</style>\n",
              "<table border=\"1\" class=\"dataframe\">\n",
              "  <thead>\n",
              "    <tr style=\"text-align: right;\">\n",
              "      <th></th>\n",
              "      <th>r1</th>\n",
              "      <th>r2</th>\n",
              "    </tr>\n",
              "  </thead>\n",
              "  <tbody>\n",
              "    <tr>\n",
              "      <th>hat</th>\n",
              "      <td>0.00</td>\n",
              "      <td>1.00</td>\n",
              "    </tr>\n",
              "    <tr>\n",
              "      <th>glasses</th>\n",
              "      <td>0.75</td>\n",
              "      <td>0.25</td>\n",
              "    </tr>\n",
              "  </tbody>\n",
              "</table>\n",
              "</div>"
            ],
            "text/plain": [
              "           r1    r2\n",
              "hat      0.00  1.00\n",
              "glasses  0.75  0.25"
            ]
          },
          "metadata": {},
          "output_type": "display_data"
        }
      ]
    },
    {
      "cell_type": "markdown",
      "metadata": {
        "id": "-F0ROmpdTwg7"
      },
      "source": [
        "## **Вопрос 1**\n",
        "*Приведите конверсациональную импликатуру, которую можно вывести из таблицы прагматического слушающего* \n",
        "\n",
        "*Ответ*: (ответ здесь)"
      ]
    },
    {
      "cell_type": "markdown",
      "metadata": {
        "id": "2qRohpupUKM4"
      },
      "source": [
        "## **Вопрос 2**\n",
        "*Как поменяется импликатура, если поменять исходные вероятности на P(r1) = 0.1, P(r2) = P(r3) = 0.45? Приведите соответствующую таблицу распределения вероятностей для прагматического слушающего и прокомментируйте её* \n",
        "\n",
        "*Ответ*:"
      ]
    },
    {
      "cell_type": "code",
      "metadata": {
        "id": "d6mXmkEeUU-d"
      },
      "source": [
        "# code here"
      ],
      "execution_count": null,
      "outputs": []
    },
    {
      "cell_type": "markdown",
      "metadata": {
        "id": "68_rXDfHUWll"
      },
      "source": [
        "*Комментарий:* "
      ]
    },
    {
      "cell_type": "markdown",
      "metadata": {
        "id": "1txLVw-7U3CY"
      },
      "source": [
        "# Задание 4\n",
        "## **Вопрос 1**\n",
        "*Приведите свой пример референциальной игры с четырьмя объектами (состояниями, r1, r2, r3, r4) и четырьмя высказываниями (m1, m2, m3, m4), в которой при равных исходных вероятностях объектов, alpha = 1, цене всех высказываний равной 0 вычисляется одна или две скалярные импликатуры. Покажите, что импликатуры вычисляются (таблица для прагматического слушающего + комментарий, описывающий импликатуру).*"
      ]
    },
    {
      "cell_type": "code",
      "metadata": {
        "id": "nkJSF4NtVFCj"
      },
      "source": [
        "# code here"
      ],
      "execution_count": null,
      "outputs": []
    },
    {
      "cell_type": "markdown",
      "metadata": {
        "id": "CqOJRrK_VpD5"
      },
      "source": [
        "*Комментарий*:"
      ]
    },
    {
      "cell_type": "markdown",
      "metadata": {
        "id": "TYKzUbXIVTGE"
      },
      "source": [
        "## **Вопрос 2**\n",
        "Как меняются вероятности для прагматического слушающего с изменением параметра alpha (оптимальность, прагматичность, рациональность говорящего), параметра цены высказывания, с изменением исходных (априорных) вероятностей объектов? При каких значениях параметров импликатура (или импликатуры, если в Вашей игре их несколько) исчезает?"
      ]
    },
    {
      "cell_type": "code",
      "metadata": {
        "id": "PYJQnghZVlcD"
      },
      "source": [
        "# code here"
      ],
      "execution_count": null,
      "outputs": []
    },
    {
      "cell_type": "markdown",
      "metadata": {
        "id": "wrwdSBrNVucB"
      },
      "source": [
        "*Комментарий*:"
      ]
    }
  ]
}